{
 "cells": [
  {
   "cell_type": "code",
   "execution_count": 102,
   "id": "b2035fe7-2214-4576-8479-2332e84161f2",
   "metadata": {
    "tags": []
   },
   "outputs": [],
   "source": [
    "#NOTE: The code below is configured to make running the code possible in Pace-ICE ondemand. You should either change the lines below to reflect your virtual env or comment them out.\n",
    "import sys\n",
    "'''sys.executable = 'miniconda3/envs/DRL/bin/python3.10'\n",
    "sys.path += ['/home/hice1/jwessell6/DRL/VLMAgent/Gym_Snake', '/home/hice1/jwessell6/miniconda3/envs/DRL/lib/python3.10', \n",
    "    '/home/hice1/jwessell6/miniconda3/envs/DRL/lib/python3.10/site-packages', '/home/hice1/jwessell6/miniconda3/envs/DRL/lib/python3.10/lib-dynload']'''\n",
    "sys.path += ['/home/hice1/jwessell6/DRL/VLMAgent/Gym_Snake']\n",
    "#normal imports\n",
    "#import pandas as pd\n",
    "import numpy as np\n",
    "import torch \n",
    "from transformers import AutoProcessor, AutoModelForCausalLM, LlavaOnevisionForConditionalGeneration, BitsAndBytesConfig\n",
    "import pickle\n",
    "import argparse\n",
    "import gym\n",
    "import re\n",
    "\n",
    "import numpy as np\n",
    "from PIL import Image\n",
    "import matplotlib.pyplot as plt\n",
    "\n",
    "import gym_snake"
   ]
  },
  {
   "cell_type": "code",
   "execution_count": 16,
   "id": "4cafc377-f195-4ca3-8d17-ebcb1823d85a",
   "metadata": {
    "tags": []
   },
   "outputs": [
    {
     "name": "stdout",
     "output_type": "stream",
     "text": [
      "environ({'SHELL': '/bin/bash', 'LMOD_SITE_NAME': 'PACE', 'ZLIBROOT': '/usr/local/pace-apps/spack/packages/linux-rhel9-x86_64_v3/gcc-12.3.0/zlib-1.2.13-3qhjpij2pji47kfanmlflvwk5ljcn5lh', 'CONDA_EXE': '/storage/ice1/1/6/jwessell6/miniconda3/bin/conda', '_CE_M': '', 'PKG_CONFIG_PATH': '/usr/local/pace-apps/spack/packages/linux-rhel9-x86_64_v3/gcc-12.3.0/mvapich2-2.3.7-1-qv3gjagtbx5e3rlbdy6iy2sfczryftyt/lib/pkgconfig:/opt/pmix/4.2.6/lib/pkgconfig:/usr/local/pace-apps/spack/packages/linux-rhel9-x86_64_v3/gcc-12.3.0/libxml2-2.10.3-ve5kggawwlt6jijzmrfy7idkx5hcwmuw/lib/pkgconfig:/usr/local/pace-apps/spack/packages/linux-rhel9-x86_64_v3/gcc-12.3.0/xz-5.4.1-23t2osmoz6du7oygrv5zeiignuxhmmp4/lib/pkgconfig:/usr/local/pace-apps/spack/packages/linux-rhel9-x86_64_v3/gcc-12.3.0/libpciaccess-0.17-pjfe4ct4gfm5k26s36hmewhbz4k232dl/lib/pkgconfig:/usr/local/pace-apps/spack/packages/linux-rhel9-x86_64_v3/gcc-12.3.0/zlib-1.2.13-3qhjpij2pji47kfanmlflvwk5ljcn5lh/lib/pkgconfig:/usr/local/pace-apps/spack/packages/linux-rhel9-x86_64_v3/gcc-12.3.0/mpfr-4.2.0-tox4bdsc25zr763rnq5gzlukfbvw7uj7/lib/pkgconfig:/usr/local/pace-apps/spack/packages/linux-rhel9-x86_64_v3/gcc-12.3.0/gmp-6.2.1-n7dzsse5e3f6w5z6q6cuqursydg6yypo/lib/pkgconfig', 'SLURMROOT': '/opt/slurm/current', 'PACE_FAMILY_MPI_VERSION': '2.3.7-1', '_ModuleTable011_': 'b2QvbGludXgtcmhlbDkteDg2XzY0L2djYy8xMi4zLjAiCiwgIi91c3IvbG9jYWwvcGFjZS1hcHBzL3NwYWNrL21vZHVsZXMvbG1vZC9saW51eC1yaGVsOS14ODZfNjQvZ2NjLzEyLjMuMCIKLCAiL3Vzci9sb2NhbC9wYWNlLWFwcHMvbWFudWFsL21vZHVsZXMvbG1vZC9saW51eC1yaGVsOS14ODZfNjQvQ29yZSIsICIvdXNyL2xvY2FsL3BhY2UtYXBwcy9zcGFjay9tb2R1bGVzL2xtb2QvbGludXgtcmhlbDkteDg2XzY0L0NvcmUiLAp9LApzeXN0ZW1CYXNlTVBBVEggPSAiL3Vzci9sb2NhbC9wYWNlLWFwcHMvbWFudWFsL21vZHVsZXMvbG1vZC9saW51eC1yaGVsOS14ODZfNjQvQ29yZTovdXNyL2xvY2FsL3BhY2UtYXBwcy9zcGFjay9tb2R1bGVzL2xtb2QvbGludXgtcmhlbDkt', 'PACE_FAMILY_MPI': 'mvapich2', '_ModuleTable007_': 'aDIiLAp3ViA9ICJzMDAwMDAwMDIuMDAwMDAwMDAzLjAwMDAwMDAwNy4qemZpbmFsLS4wMDAwMDAwMDEuKnpmaW5hbCIsCn0sCnBtaXggPSB7CmZuID0gIi91c3IvbG9jYWwvcGFjZS1hcHBzL3NwYWNrL21vZHVsZXMvbG1vZC9saW51eC1yaGVsOS14ODZfNjQvZ2NjLzEyLjMuMC9wbWl4LzQuMi42Lmx1YSIsCmZ1bGxOYW1lID0gInBtaXgvNC4yLjYiLApsb2FkT3JkZXIgPSAxMCwKcHJvcFQgPSB7fSwKcmVmX2NvdW50ID0gMSwKc3RhY2tEZXB0aCA9IDEsCnN0YXR1cyA9ICJhY3RpdmUiLAp1c2VyTmFtZSA9ICJwbWl4LzQuMi42IiwKd1YgPSAiMDAwMDAwMDA0LjAwMDAwMDAwMi4wMDAwMDAwMDYuKnpmaW5hbCIsCn0sCnNsdXJtID0gewpmbiA9ICIvdXNyL2xvY2FsL3BhY2Ut', '_ModuleTable002_': 'bmFsIiwKfSwKZ21wID0gewpmbiA9ICIvdXNyL2xvY2FsL3BhY2UtYXBwcy9zcGFjay9tb2R1bGVzL2xtb2QvbGludXgtcmhlbDkteDg2XzY0L2djYy8xMi4zLjAvZ21wLzYuMi4xLmx1YSIsCmZ1bGxOYW1lID0gImdtcC82LjIuMSIsCmxvYWRPcmRlciA9IDEsCnByb3BUID0ge30sCnJlZl9jb3VudCA9IDMsCnN0YWNrRGVwdGggPSAxLApzdGF0dXMgPSAiYWN0aXZlIiwKdXNlck5hbWUgPSAiZ21wLzYuMi4xIiwKd1YgPSAiMDAwMDAwMDA2LjAwMDAwMDAwMi4wMDAwMDAwMDEuKnpmaW5hbCIsCn0sCmxpYmljb252ID0gewpmbiA9ICIvdXNyL2xvY2FsL3BhY2UtYXBwcy9zcGFjay9tb2R1bGVzL2xtb2QvbGludXgtcmhlbDkteDg2XzY0L2djYy8xMi4zLjAvbGliaWNvbnYvMS4x', 'MPICC': '/usr/local/pace-apps/spack/packages/linux-rhel9-x86_64_v3/gcc-12.3.0/mvapich2-2.3.7-1-qv3gjagtbx5e3rlbdy6iy2sfczryftyt/bin/mpicc', 'MV2_ENABLE_AFFINITY': '0', '__LMOD_REF_COUNT_MODULEPATH': '/usr/local/pace-apps/manual/modules/lmod/linux-rhel9-x86_64/mvapich2/2.3.7-1/gcc/12.3.0:1;/usr/local/pace-apps/spack/modules/lmod/linux-rhel9-x86_64/mvapich2/2.3.7-1-tcqqxwz/gcc/12.3.0:1;/usr/local/pace-apps/spack/modules/lmod/linux-rhel9-x86_64/mvapich2/2.3.7-1-qv3gjag/gcc/12.3.0:1;/usr/local/pace-apps/manual/modules/lmod/linux-rhel9-x86_64/gcc/12.3.0:1;/usr/local/pace-apps/spack/modules/lmod/linux-rhel9-x86_64/gcc/12.3.0:1;/usr/local/pace-apps/manual/modules/lmod/linux-rhel9-x86_64/Core:1;/usr/local/pace-apps/spack/modules/lmod/linux-rhel9-x86_64/Core:1', 'MV2_USE_RDMA_CM': '0', '_ModuleTable005_': 'LAptcGMgPSB7CmZuID0gIi91c3IvbG9jYWwvcGFjZS1hcHBzL3NwYWNrL21vZHVsZXMvbG1vZC9saW51eC1yaGVsOS14ODZfNjQvZ2NjLzEyLjMuMC9tcGMvMS4zLjEubHVhIiwKZnVsbE5hbWUgPSAibXBjLzEuMy4xIiwKbG9hZE9yZGVyID0gMywKcHJvcFQgPSB7fSwKcmVmX2NvdW50ID0gMSwKc3RhY2tEZXB0aCA9IDEsCnN0YXR1cyA9ICJhY3RpdmUiLAp1c2VyTmFtZSA9ICJtcGMvMS4zLjEiLAp3ViA9ICIwMDAwMDAwMDEuMDAwMDAwMDAzLjAwMDAwMDAwMS4qemZpbmFsIiwKfSwKbXBmciA9IHsKZm4gPSAiL3Vzci9sb2NhbC9wYWNlLWFwcHMvc3BhY2svbW9kdWxlcy9sbW9kL2xpbnV4LXJoZWw5LXg4Nl82NC9nY2MvMTIuMy4wL21wZnIvNC4yLjAubHVhIiwKZnVsbE5h', '__LMOD_REF_COUNT_ACLOCAL_PATH': '/usr/local/pace-apps/spack/packages/linux-rhel9-x86_64_v3/gcc-12.3.0/libxml2-2.10.3-ve5kggawwlt6jijzmrfy7idkx5hcwmuw/share/aclocal:1', 'PMIXROOT': '/opt/pmix/4.2.6', 'LIBPCIACCESSROOT': '/usr/local/pace-apps/spack/packages/linux-rhel9-x86_64_v3/gcc-12.3.0/libpciaccess-0.17-pjfe4ct4gfm5k26s36hmewhbz4k232dl', 'GCCROOT': '/usr/local/pace-apps/spack/packages/linux-rhel9-x86_64_v3/gcc-11.3.1/gcc-12.3.0-ukkkutsxfl5kpnnaxflpkq2jtliwthfz', 'MPICXX': '/usr/local/pace-apps/spack/packages/linux-rhel9-x86_64_v3/gcc-12.3.0/mvapich2-2.3.7-1-qv3gjagtbx5e3rlbdy6iy2sfczryftyt/bin/mpicxx', 'LMOD_DIR': '/usr/local/pace-apps/lmod/lmod/libexec', 'LIBPCIACCESS_ROOT': '/usr/local/pace-apps/spack/packages/linux-rhel9-x86_64_v3/gcc-12.3.0/libpciaccess-0.17-pjfe4ct4gfm5k26s36hmewhbz4k232dl', 'PWD': '/home/hice1/jwessell6', 'LOGNAME': 'jwessell6', 'XDG_SESSION_TYPE': 'tty', 'CONDA_PREFIX': '/storage/ice1/1/6/jwessell6/miniconda3/envs/DRL', 'MODULESHOME': '/usr/local/pace-apps/lmod/lmod', 'XZ_ROOT': '/usr/local/pace-apps/spack/packages/linux-rhel9-x86_64_v3/gcc-12.3.0/xz-5.4.1-23t2osmoz6du7oygrv5zeiignuxhmmp4', 'MANPATH': '/opt/slurm/current/share/man:/usr/local/pace-apps/spack/packages/linux-rhel9-x86_64_v3/gcc-12.3.0/mvapich2-2.3.7-1-qv3gjagtbx5e3rlbdy6iy2sfczryftyt/share/man:/opt/slurm/current/share/man:/opt/pmix/4.2.6/share/man:/usr/local/pace-apps/spack/packages/linux-rhel9-x86_64_v3/gcc-12.3.0/libxml2-2.10.3-ve5kggawwlt6jijzmrfy7idkx5hcwmuw/share/man:/usr/local/pace-apps/spack/packages/linux-rhel9-x86_64_v3/gcc-12.3.0/xz-5.4.1-23t2osmoz6du7oygrv5zeiignuxhmmp4/share/man:/usr/local/pace-apps/spack/packages/linux-rhel9-x86_64_v3/gcc-12.3.0/libiconv-1.17-fsjufoyqbs3t36il6apgxqcqrceerbe2/share/man:/usr/local/pace-apps/spack/packages/linux-rhel9-x86_64_v3/gcc-11.3.1/gcc-12.3.0-ukkkutsxfl5kpnnaxflpkq2jtliwthfz/share/man:/usr/local/pace-apps/spack/packages/linux-rhel9-x86_64_v3/gcc-12.3.0/zlib-1.2.13-3qhjpij2pji47kfanmlflvwk5ljcn5lh/share/man:/usr/local/pace-apps/lmod/lmod/share/man:/opt/iozone/man:::/opt/iozone/man', 'CXX': '/usr/local/pace-apps/spack/packages/linux-rhel9-x86_64_v3/gcc-11.3.1/gcc-12.3.0-ukkkutsxfl5kpnnaxflpkq2jtliwthfz/bin/g++', '_ModuleTable008_': 'YXBwcy9zcGFjay9tb2R1bGVzL2xtb2QvbGludXgtcmhlbDkteDg2XzY0L2djYy8xMi4zLjAvc2x1cm0vMjMuMTEuMS5sdWEiLApmdWxsTmFtZSA9ICJzbHVybS8yMy4xMS4xIiwKbG9hZE9yZGVyID0gMTEsCnByb3BUID0ge30sCnJlZl9jb3VudCA9IDEsCnN0YWNrRGVwdGggPSAxLApzdGF0dXMgPSAiYWN0aXZlIiwKdXNlck5hbWUgPSAic2x1cm0vMjMuMTEuMSIsCndWID0gIjAwMDAwMDAyMy4wMDAwMDAwMTEuMDAwMDAwMDAxLip6ZmluYWwiLAp9LAp4eiA9IHsKZm4gPSAiL3Vzci9sb2NhbC9wYWNlLWFwcHMvc3BhY2svbW9kdWxlcy9sbW9kL2xpbnV4LXJoZWw5LXg4Nl82NC9nY2MvMTIuMy4wL3h6LzUuNC4xLmx1YSIsCmZ1bGxOYW1lID0gInh6LzUuNC4xIiwKbG9hZE9y', 'ZLIB_ROOT': '/usr/local/pace-apps/spack/packages/linux-rhel9-x86_64_v3/gcc-12.3.0/zlib-1.2.13-3qhjpij2pji47kfanmlflvwk5ljcn5lh', '__LMOD_REF_COUNT_CMAKE_PREFIX_PATH': '/usr/local/pace-apps/spack/packages/linux-rhel9-x86_64_v3/gcc-12.3.0/mvapich2-2.3.7-1-qv3gjagtbx5e3rlbdy6iy2sfczryftyt:1;/opt/slurm/current:1;/opt/pmix/4.2.6:1;/usr/local/pace-apps/spack/packages/linux-rhel9-x86_64_v3/gcc-12.3.0/libxml2-2.10.3-ve5kggawwlt6jijzmrfy7idkx5hcwmuw:1;/usr/local/pace-apps/spack/packages/linux-rhel9-x86_64_v3/gcc-12.3.0/xz-5.4.1-23t2osmoz6du7oygrv5zeiignuxhmmp4:1;/usr/local/pace-apps/spack/packages/linux-rhel9-x86_64_v3/gcc-12.3.0/libiconv-1.17-fsjufoyqbs3t36il6apgxqcqrceerbe2:1;/usr/local/pace-apps/spack/packages/linux-rhel9-x86_64_v3/gcc-12.3.0/libpciaccess-0.17-pjfe4ct4gfm5k26s36hmewhbz4k232dl:1;/usr/local/pace-apps/spack/packages/linux-rhel9-x86_64_v3/gcc-11.3.1/gcc-12.3.0-ukkkutsxfl5kpnnaxflpkq2jtliwthfz:1;/usr/local/pace-apps/spack/packages/linux-rhel9-x86_64_v3/gcc-12.3.0/zlib-1.2.13-3qhjpij2pji47kfanmlflvwk5ljcn5lh:1;/usr/local/pace-apps/spack/packages/linux-rhel9-x86_64_v3/gcc-12.3.0/mpc-1.3.1-3zvixith5i243hwiill4exyu3lf2q6ad:1;/usr/local/pace-apps/spack/packages/linux-rhel9-x86_64_v3/gcc-12.3.0/mpfr-4.2.0-tox4bdsc25zr763rnq5gzlukfbvw7uj7:1;/usr/local/pace-apps/spack/packages/linux-rhel9-x86_64_v3/gcc-12.3.0/gmp-6.2.1-n7dzsse5e3f6w5z6q6cuqursydg6yypo:1', 'LMOD_SHORT_TIME': '86400', 'MPC_ROOT': '/usr/local/pace-apps/spack/packages/linux-rhel9-x86_64_v3/gcc-12.3.0/mpc-1.3.1-3zvixith5i243hwiill4exyu3lf2q6ad', '__LMOD_REF_COUNT_PATH': '/usr/local/pace-apps/spack/packages/linux-rhel9-x86_64_v3/gcc-12.3.0/mvapich2-2.3.7-1-qv3gjagtbx5e3rlbdy6iy2sfczryftyt/bin:1;/opt/slurm/current/bin:2;/opt/pmix/4.2.6/bin:1;/usr/local/pace-apps/spack/packages/linux-rhel9-x86_64_v3/gcc-12.3.0/libxml2-2.10.3-ve5kggawwlt6jijzmrfy7idkx5hcwmuw/bin:1;/usr/local/pace-apps/spack/packages/linux-rhel9-x86_64_v3/gcc-12.3.0/xz-5.4.1-23t2osmoz6du7oygrv5zeiignuxhmmp4/bin:1;/usr/local/pace-apps/spack/packages/linux-rhel9-x86_64_v3/gcc-12.3.0/libiconv-1.17-fsjufoyqbs3t36il6apgxqcqrceerbe2/bin:1;/usr/local/pace-apps/spack/packages/linux-rhel9-x86_64_v3/gcc-11.3.1/gcc-12.3.0-ukkkutsxfl5kpnnaxflpkq2jtliwthfz/bin:1;/opt/pace-common/bin:1;/usr/local/bin:1;/usr/bin:1;/usr/local/sbin:1;/usr/sbin:1;/opt/iozone/bin:1', 'HOME': '/home/hice1/jwessell6', '_ModuleTable_Sz_': '12', 'LIBXML2_ROOT': '/usr/local/pace-apps/spack/packages/linux-rhel9-x86_64_v3/gcc-12.3.0/libxml2-2.10.3-ve5kggawwlt6jijzmrfy7idkx5hcwmuw', 'SSH_ASKPASS': '/usr/libexec/openssh/gnome-ssh-askpass', '__LMOD_REF_COUNT_LIBRARY_PATH': '/usr/local/pace-apps/spack/packages/linux-rhel9-x86_64_v3/gcc-12.3.0/mvapich2-2.3.7-1-qv3gjagtbx5e3rlbdy6iy2sfczryftyt/lib:1;/opt/slurm/current/lib:1;/opt/pmix/4.2.6/lib:1;/usr/local/pace-apps/spack/packages/linux-rhel9-x86_64_v3/gcc-12.3.0/libxml2-2.10.3-ve5kggawwlt6jijzmrfy7idkx5hcwmuw/lib:1;/usr/local/pace-apps/spack/packages/linux-rhel9-x86_64_v3/gcc-12.3.0/xz-5.4.1-23t2osmoz6du7oygrv5zeiignuxhmmp4/lib:1;/usr/local/pace-apps/spack/packages/linux-rhel9-x86_64_v3/gcc-12.3.0/libiconv-1.17-fsjufoyqbs3t36il6apgxqcqrceerbe2/lib:1;/usr/local/pace-apps/spack/packages/linux-rhel9-x86_64_v3/gcc-12.3.0/libpciaccess-0.17-pjfe4ct4gfm5k26s36hmewhbz4k232dl/lib:1;/usr/local/pace-apps/spack/packages/linux-rhel9-x86_64_v3/gcc-11.3.1/gcc-12.3.0-ukkkutsxfl5kpnnaxflpkq2jtliwthfz/lib64:1;/usr/local/pace-apps/spack/packages/linux-rhel9-x86_64_v3/gcc-11.3.1/gcc-12.3.0-ukkkutsxfl5kpnnaxflpkq2jtliwthfz/lib:1;/usr/local/pace-apps/spack/packages/linux-rhel9-x86_64_v3/gcc-12.3.0/zlib-1.2.13-3qhjpij2pji47kfanmlflvwk5ljcn5lh/lib:1;/usr/local/pace-apps/spack/packages/linux-rhel9-x86_64_v3/gcc-12.3.0/mpc-1.3.1-3zvixith5i243hwiill4exyu3lf2q6ad/lib:1;/usr/local/pace-apps/spack/packages/linux-rhel9-x86_64_v3/gcc-12.3.0/mpfr-4.2.0-tox4bdsc25zr763rnq5gzlukfbvw7uj7/lib:1;/usr/local/pace-apps/spack/packages/linux-rhel9-x86_64_v3/gcc-12.3.0/gmp-6.2.1-n7dzsse5e3f6w5z6q6cuqursydg6yypo/lib:1', 'LANG': 'en_US.UTF-8', 'PACE_FAMILY_COMPILER_VERSION': '12.3.0', '__LMOD_REF_COUNT_PKG_CONFIG_PATH': '/usr/local/pace-apps/spack/packages/linux-rhel9-x86_64_v3/gcc-12.3.0/mvapich2-2.3.7-1-qv3gjagtbx5e3rlbdy6iy2sfczryftyt/lib/pkgconfig:1;/opt/pmix/4.2.6/lib/pkgconfig:1;/usr/local/pace-apps/spack/packages/linux-rhel9-x86_64_v3/gcc-12.3.0/libxml2-2.10.3-ve5kggawwlt6jijzmrfy7idkx5hcwmuw/lib/pkgconfig:1;/usr/local/pace-apps/spack/packages/linux-rhel9-x86_64_v3/gcc-12.3.0/xz-5.4.1-23t2osmoz6du7oygrv5zeiignuxhmmp4/lib/pkgconfig:1;/usr/local/pace-apps/spack/packages/linux-rhel9-x86_64_v3/gcc-12.3.0/libpciaccess-0.17-pjfe4ct4gfm5k26s36hmewhbz4k232dl/lib/pkgconfig:1;/usr/local/pace-apps/spack/packages/linux-rhel9-x86_64_v3/gcc-12.3.0/zlib-1.2.13-3qhjpij2pji47kfanmlflvwk5ljcn5lh/lib/pkgconfig:1;/usr/local/pace-apps/spack/packages/linux-rhel9-x86_64_v3/gcc-12.3.0/mpfr-4.2.0-tox4bdsc25zr763rnq5gzlukfbvw7uj7/lib/pkgconfig:1;/usr/local/pace-apps/spack/packages/linux-rhel9-x86_64_v3/gcc-12.3.0/gmp-6.2.1-n7dzsse5e3f6w5z6q6cuqursydg6yypo/lib/pkgconfig:1', 'MPIF90': '/usr/local/pace-apps/spack/packages/linux-rhel9-x86_64_v3/gcc-12.3.0/mvapich2-2.3.7-1-qv3gjagtbx5e3rlbdy6iy2sfczryftyt/bin/mpif90', '__LMOD_REF_COUNT_CPATH': '/usr/local/pace-apps/spack/packages/linux-rhel9-x86_64_v3/gcc-12.3.0/mvapich2-2.3.7-1-qv3gjagtbx5e3rlbdy6iy2sfczryftyt/include:1;/opt/slurm/current/include:1;/opt/pmix/4.2.6/include:1;/usr/local/pace-apps/spack/packages/linux-rhel9-x86_64_v3/gcc-12.3.0/libxml2-2.10.3-ve5kggawwlt6jijzmrfy7idkx5hcwmuw/include:1;/usr/local/pace-apps/spack/packages/linux-rhel9-x86_64_v3/gcc-12.3.0/xz-5.4.1-23t2osmoz6du7oygrv5zeiignuxhmmp4/include:1;/usr/local/pace-apps/spack/packages/linux-rhel9-x86_64_v3/gcc-12.3.0/libiconv-1.17-fsjufoyqbs3t36il6apgxqcqrceerbe2/include:1;/usr/local/pace-apps/spack/packages/linux-rhel9-x86_64_v3/gcc-12.3.0/libpciaccess-0.17-pjfe4ct4gfm5k26s36hmewhbz4k232dl/include:1;/usr/local/pace-apps/spack/packages/linux-rhel9-x86_64_v3/gcc-11.3.1/gcc-12.3.0-ukkkutsxfl5kpnnaxflpkq2jtliwthfz/include:1;/usr/local/pace-apps/spack/packages/linux-rhel9-x86_64_v3/gcc-12.3.0/zlib-1.2.13-3qhjpij2pji47kfanmlflvwk5ljcn5lh/include:1;/usr/local/pace-apps/spack/packages/linux-rhel9-x86_64_v3/gcc-12.3.0/mpc-1.3.1-3zvixith5i243hwiill4exyu3lf2q6ad/include:1;/usr/local/pace-apps/spack/packages/linux-rhel9-x86_64_v3/gcc-12.3.0/mpfr-4.2.0-tox4bdsc25zr763rnq5gzlukfbvw7uj7/include:1;/usr/local/pace-apps/spack/packages/linux-rhel9-x86_64_v3/gcc-12.3.0/gmp-6.2.1-n7dzsse5e3f6w5z6q6cuqursydg6yypo/include:1', 'LMOD_SETTARG_FULL_SUPPORT': 'no', 'CONDA_PROMPT_MODIFIER': '(DRL) ', 'CMAKE_PREFIX_PATH': '/usr/local/pace-apps/spack/packages/linux-rhel9-x86_64_v3/gcc-12.3.0/mvapich2-2.3.7-1-qv3gjagtbx5e3rlbdy6iy2sfczryftyt:/opt/slurm/current:/opt/pmix/4.2.6:/usr/local/pace-apps/spack/packages/linux-rhel9-x86_64_v3/gcc-12.3.0/libxml2-2.10.3-ve5kggawwlt6jijzmrfy7idkx5hcwmuw:/usr/local/pace-apps/spack/packages/linux-rhel9-x86_64_v3/gcc-12.3.0/xz-5.4.1-23t2osmoz6du7oygrv5zeiignuxhmmp4:/usr/local/pace-apps/spack/packages/linux-rhel9-x86_64_v3/gcc-12.3.0/libiconv-1.17-fsjufoyqbs3t36il6apgxqcqrceerbe2:/usr/local/pace-apps/spack/packages/linux-rhel9-x86_64_v3/gcc-12.3.0/libpciaccess-0.17-pjfe4ct4gfm5k26s36hmewhbz4k232dl:/usr/local/pace-apps/spack/packages/linux-rhel9-x86_64_v3/gcc-11.3.1/gcc-12.3.0-ukkkutsxfl5kpnnaxflpkq2jtliwthfz:/usr/local/pace-apps/spack/packages/linux-rhel9-x86_64_v3/gcc-12.3.0/zlib-1.2.13-3qhjpij2pji47kfanmlflvwk5ljcn5lh:/usr/local/pace-apps/spack/packages/linux-rhel9-x86_64_v3/gcc-12.3.0/mpc-1.3.1-3zvixith5i243hwiill4exyu3lf2q6ad:/usr/local/pace-apps/spack/packages/linux-rhel9-x86_64_v3/gcc-12.3.0/mpfr-4.2.0-tox4bdsc25zr763rnq5gzlukfbvw7uj7:/usr/local/pace-apps/spack/packages/linux-rhel9-x86_64_v3/gcc-12.3.0/gmp-6.2.1-n7dzsse5e3f6w5z6q6cuqursydg6yypo', 'VSCODE_AGENT_FOLDER': '/home/hice1/jwessell6/.vscode-server', 'MPIF77': '/usr/local/pace-apps/spack/packages/linux-rhel9-x86_64_v3/gcc-12.3.0/mvapich2-2.3.7-1-qv3gjagtbx5e3rlbdy6iy2sfczryftyt/bin/mpif77', '_ModuleTable010_': 'MDAwMDAxLjAwMDAwMDAwMi4wMDAwMDAwMTMuKnpmaW5hbCIsCn0sCn0sCm1wYXRoQSA9IHsKCiIvdXNyL2xvY2FsL3BhY2UtYXBwcy9tYW51YWwvbW9kdWxlcy9sbW9kL2xpbnV4LXJoZWw5LXg4Nl82NC9tdmFwaWNoMi8yLjMuNy0xL2djYy8xMi4zLjAiCiwgIi91c3IvbG9jYWwvcGFjZS1hcHBzL3NwYWNrL21vZHVsZXMvbG1vZC9saW51eC1yaGVsOS14ODZfNjQvbXZhcGljaDIvMi4zLjctMS10Y3FxeHd6L2djYy8xMi4zLjAiCiwgIi91c3IvbG9jYWwvcGFjZS1hcHBzL3NwYWNrL21vZHVsZXMvbG1vZC9saW51eC1yaGVsOS14ODZfNjQvbXZhcGljaDIvMi4zLjctMS1xdjNnamFnL2djYy8xMi4zLjAiCiwgIi91c3IvbG9jYWwvcGFjZS1hcHBzL21hbnVhbC9tb2R1bGVzL2xt', 'LMOD_VERSION': '8.7.32', 'SSH_CONNECTION': '10.2.66.247 52676 128.61.254.122 22', 'LMOD_PACKAGE_PATH': '/usr/local/pace-apps/lmod/site', '_ModuleTable003_': 'Ny5sdWEiLApmdWxsTmFtZSA9ICJsaWJpY29udi8xLjE3IiwKbG9hZE9yZGVyID0gNywKcHJvcFQgPSB7fSwKcmVmX2NvdW50ID0gMSwKc3RhY2tEZXB0aCA9IDIsCnN0YXR1cyA9ICJhY3RpdmUiLAp1c2VyTmFtZSA9ICJsaWJpY29udi8xLjE3IiwKd1YgPSAiMDAwMDAwMDAxLjAwMDAwMDAxNy4qemZpbmFsIiwKfSwKbGlicGNpYWNjZXNzID0gewpmbiA9ICIvdXNyL2xvY2FsL3BhY2UtYXBwcy9zcGFjay9tb2R1bGVzL2xtb2QvbGludXgtcmhlbDkteDg2XzY0L2djYy8xMi4zLjAvbGlicGNpYWNjZXNzLzAuMTcubHVhIiwKZnVsbE5hbWUgPSAibGlicGNpYWNjZXNzLzAuMTciLApsb2FkT3JkZXIgPSA2LApwcm9wVCA9IHt9LApyZWZfY291bnQgPSAxLApzdGFja0RlcHRoID0g', 'MODULEPATH_ROOT': '/usr/local/pace-apps/manual/modules', 'LIBICONV_ROOT': '/usr/local/pace-apps/spack/packages/linux-rhel9-x86_64_v3/gcc-12.3.0/libiconv-1.17-fsjufoyqbs3t36il6apgxqcqrceerbe2', 'XDG_SESSION_CLASS': 'user', 'LMOD_PKG': '/usr/local/pace-apps/lmod/lmod', 'PACE_FAMILY_COMPILER': 'gcc', 'SELINUX_ROLE_REQUESTED': '', '_CE_CONDA': '', 'F77': '/usr/local/pace-apps/spack/packages/linux-rhel9-x86_64_v3/gcc-11.3.1/gcc-12.3.0-ukkkutsxfl5kpnnaxflpkq2jtliwthfz/bin/gfortran', 'ACLOCAL_PATH': '/usr/local/pace-apps/spack/packages/linux-rhel9-x86_64_v3/gcc-12.3.0/libxml2-2.10.3-ve5kggawwlt6jijzmrfy7idkx5hcwmuw/share/aclocal', 'MVAPICH2_ROOT': '/usr/local/pace-apps/spack/packages/linux-rhel9-x86_64_v3/gcc-12.3.0/mvapich2-2.3.7-1-qv3gjagtbx5e3rlbdy6iy2sfczryftyt', 'SLURM_ROOT': '/opt/slurm/current', 'LESSOPEN': '||/usr/bin/lesspipe.sh %s', 'USER': 'jwessell6', 'MV2_SUPPRESS_JOB_STARTUP_PERFORMANCE_WARNING': '1', 'LIBRARY_PATH': '/usr/local/pace-apps/spack/packages/linux-rhel9-x86_64_v3/gcc-12.3.0/mvapich2-2.3.7-1-qv3gjagtbx5e3rlbdy6iy2sfczryftyt/lib:/opt/slurm/current/lib:/opt/pmix/4.2.6/lib:/usr/local/pace-apps/spack/packages/linux-rhel9-x86_64_v3/gcc-12.3.0/libxml2-2.10.3-ve5kggawwlt6jijzmrfy7idkx5hcwmuw/lib:/usr/local/pace-apps/spack/packages/linux-rhel9-x86_64_v3/gcc-12.3.0/xz-5.4.1-23t2osmoz6du7oygrv5zeiignuxhmmp4/lib:/usr/local/pace-apps/spack/packages/linux-rhel9-x86_64_v3/gcc-12.3.0/libiconv-1.17-fsjufoyqbs3t36il6apgxqcqrceerbe2/lib:/usr/local/pace-apps/spack/packages/linux-rhel9-x86_64_v3/gcc-12.3.0/libpciaccess-0.17-pjfe4ct4gfm5k26s36hmewhbz4k232dl/lib:/usr/local/pace-apps/spack/packages/linux-rhel9-x86_64_v3/gcc-11.3.1/gcc-12.3.0-ukkkutsxfl5kpnnaxflpkq2jtliwthfz/lib64:/usr/local/pace-apps/spack/packages/linux-rhel9-x86_64_v3/gcc-11.3.1/gcc-12.3.0-ukkkutsxfl5kpnnaxflpkq2jtliwthfz/lib:/usr/local/pace-apps/spack/packages/linux-rhel9-x86_64_v3/gcc-12.3.0/zlib-1.2.13-3qhjpij2pji47kfanmlflvwk5ljcn5lh/lib:/usr/local/pace-apps/spack/packages/linux-rhel9-x86_64_v3/gcc-12.3.0/mpc-1.3.1-3zvixith5i243hwiill4exyu3lf2q6ad/lib:/usr/local/pace-apps/spack/packages/linux-rhel9-x86_64_v3/gcc-12.3.0/mpfr-4.2.0-tox4bdsc25zr763rnq5gzlukfbvw7uj7/lib:/usr/local/pace-apps/spack/packages/linux-rhel9-x86_64_v3/gcc-12.3.0/gmp-6.2.1-n7dzsse5e3f6w5z6q6cuqursydg6yypo/lib', 'MPI_ROOT': '/usr/local/pace-apps/spack/packages/linux-rhel9-x86_64_v3/gcc-12.3.0/mvapich2-2.3.7-1-qv3gjagtbx5e3rlbdy6iy2sfczryftyt', 'XZROOT': '/usr/local/pace-apps/spack/packages/linux-rhel9-x86_64_v3/gcc-12.3.0/xz-5.4.1-23t2osmoz6du7oygrv5zeiignuxhmmp4', 'CONDA_SHLVL': '2', 'PMIX_ROOT': '/opt/pmix/4.2.6', 'MPFRROOT': '/usr/local/pace-apps/spack/packages/linux-rhel9-x86_64_v3/gcc-12.3.0/mpfr-4.2.0-tox4bdsc25zr763rnq5gzlukfbvw7uj7', 'LOADEDMODULES': 'gmp/6.2.1:mpfr/4.2.0:mpc/1.3.1:zlib/1.2.13:gcc/12.3.0:libpciaccess/0.17:libiconv/1.17:xz/5.4.1:libxml2/2.10.3:pmix/4.2.6:slurm/23.11.1:mvapich2/2.3.7-1', 'SELINUX_USE_CURRENT_RANGE': '', 'LMOD_ROOT': '/usr/local/pace-apps/lmod', 'GMP_ROOT': '/usr/local/pace-apps/spack/packages/linux-rhel9-x86_64_v3/gcc-12.3.0/gmp-6.2.1-n7dzsse5e3f6w5z6q6cuqursydg6yypo', 'SHLVL': '2', '_ModuleTable012_': 'eDg2XzY0L0NvcmUiLAp9Cg==', 'BASH_ENV': '/usr/local/pace-apps/lmod/lmod/init/bash', '_ModuleTable006_': 'bWUgPSAibXBmci80LjIuMCIsCmxvYWRPcmRlciA9IDIsCnByb3BUID0ge30sCnJlZl9jb3VudCA9IDIsCnN0YWNrRGVwdGggPSAyLApzdGF0dXMgPSAiYWN0aXZlIiwKdXNlck5hbWUgPSAibXBmci80LjIuMCIsCndWID0gIjAwMDAwMDAwNC4wMDAwMDAwMDIuKnpmaW5hbCIsCn0sCm12YXBpY2gyID0gewpmbiA9ICIvdXNyL2xvY2FsL3BhY2UtYXBwcy9zcGFjay9tb2R1bGVzL2xtb2QvbGludXgtcmhlbDkteDg2XzY0L2djYy8xMi4zLjAvbXZhcGljaDIvMi4zLjctMS5sdWEiLApmdWxsTmFtZSA9ICJtdmFwaWNoMi8yLjMuNy0xIiwKbG9hZE9yZGVyID0gMTIsCnByb3BUID0ge30sCnN0YWNrRGVwdGggPSAwLApzdGF0dXMgPSAiYWN0aXZlIiwKdXNlck5hbWUgPSAibXZhcGlj', 'LMOD_sys': 'Linux', '_ModuleTable009_': 'ZGVyID0gOCwKcHJvcFQgPSB7fSwKcmVmX2NvdW50ID0gMSwKc3RhY2tEZXB0aCA9IDIsCnN0YXR1cyA9ICJhY3RpdmUiLAp1c2VyTmFtZSA9ICJ4ei81LjQuMSIsCndWID0gIjAwMDAwMDAwNS4wMDAwMDAwMDQuMDAwMDAwMDAxLip6ZmluYWwiLAp9LAp6bGliID0gewpmbiA9ICIvdXNyL2xvY2FsL3BhY2UtYXBwcy9zcGFjay9tb2R1bGVzL2xtb2QvbGludXgtcmhlbDkteDg2XzY0L2djYy8xMi4zLjAvemxpYi8xLjIuMTMubHVhIiwKZnVsbE5hbWUgPSAiemxpYi8xLjIuMTMiLApsb2FkT3JkZXIgPSA0LApwcm9wVCA9IHt9LApyZWZfY291bnQgPSAzLApzdGFja0RlcHRoID0gMSwKc3RhdHVzID0gImFjdGl2ZSIsCnVzZXJOYW1lID0gInpsaWIvMS4yLjEzIiwKd1YgPSAiMDAw', '__LMOD_REF_COUNT_MANPATH': '/usr/local/pace-apps/spack/packages/linux-rhel9-x86_64_v3/gcc-12.3.0/mvapich2-2.3.7-1-qv3gjagtbx5e3rlbdy6iy2sfczryftyt/share/man:1;/opt/slurm/current/share/man:2;/opt/pmix/4.2.6/share/man:1;/usr/local/pace-apps/spack/packages/linux-rhel9-x86_64_v3/gcc-12.3.0/libxml2-2.10.3-ve5kggawwlt6jijzmrfy7idkx5hcwmuw/share/man:1;/usr/local/pace-apps/spack/packages/linux-rhel9-x86_64_v3/gcc-12.3.0/xz-5.4.1-23t2osmoz6du7oygrv5zeiignuxhmmp4/share/man:1;/usr/local/pace-apps/spack/packages/linux-rhel9-x86_64_v3/gcc-12.3.0/libiconv-1.17-fsjufoyqbs3t36il6apgxqcqrceerbe2/share/man:1;/usr/local/pace-apps/spack/packages/linux-rhel9-x86_64_v3/gcc-11.3.1/gcc-12.3.0-ukkkutsxfl5kpnnaxflpkq2jtliwthfz/share/man:1;/usr/local/pace-apps/spack/packages/linux-rhel9-x86_64_v3/gcc-12.3.0/zlib-1.2.13-3qhjpij2pji47kfanmlflvwk5ljcn5lh/share/man:1;/usr/local/pace-apps/lmod/lmod/share/man:1;/opt/iozone/man:1;:8', 'XDG_SESSION_ID': '48292', 'MVAPICH2ROOT': '/usr/local/pace-apps/spack/packages/linux-rhel9-x86_64_v3/gcc-12.3.0/mvapich2-2.3.7-1-qv3gjagtbx5e3rlbdy6iy2sfczryftyt', '_ModuleTable001_': 'X01vZHVsZVRhYmxlXyA9IHsKTVR2ZXJzaW9uID0gMywKY19yZWJ1aWxkVGltZSA9IGZhbHNlLApjX3Nob3J0VGltZSA9IGZhbHNlLApkZXB0aFQgPSB7fSwKZmFtaWx5ID0gewpjb21waWxlciA9ICJnY2MiLAptcGkgPSAibXZhcGljaDIiLAp9LAptVCA9IHsKZ2NjID0gewpmbiA9ICIvdXNyL2xvY2FsL3BhY2UtYXBwcy9zcGFjay9tb2R1bGVzL2xtb2QvbGludXgtcmhlbDkteDg2XzY0L0NvcmUvZ2NjLzEyLjMuMC5sdWEiLApmdWxsTmFtZSA9ICJnY2MvMTIuMy4wIiwKbG9hZE9yZGVyID0gNSwKcHJvcFQgPSB7fSwKc3RhY2tEZXB0aCA9IDAsCnN0YXR1cyA9ICJhY3RpdmUiLAp1c2VyTmFtZSA9ICJnY2MvMTIuMy4wIiwKd1YgPSAiczAwMDAwMDEyLjAwMDAwMDAwMy4qemZp', 'CONDA_PYTHON_EXE': '/storage/ice1/1/6/jwessell6/miniconda3/bin/python', 'LD_LIBRARY_PATH': '/home/hice1/jwessell6/.local/lib/python3.10/site-packages/cv2/../../lib64:/opt/slurm/current/lib:/usr/local/pace-apps/spack/packages/linux-rhel9-x86_64_v3/gcc-12.3.0/mvapich2-2.3.7-1-qv3gjagtbx5e3rlbdy6iy2sfczryftyt/lib:/opt/slurm/current/lib:/opt/pmix/4.2.6/lib:/usr/local/pace-apps/spack/packages/linux-rhel9-x86_64_v3/gcc-12.3.0/libxml2-2.10.3-ve5kggawwlt6jijzmrfy7idkx5hcwmuw/lib:/usr/local/pace-apps/spack/packages/linux-rhel9-x86_64_v3/gcc-12.3.0/xz-5.4.1-23t2osmoz6du7oygrv5zeiignuxhmmp4/lib:/usr/local/pace-apps/spack/packages/linux-rhel9-x86_64_v3/gcc-12.3.0/libiconv-1.17-fsjufoyqbs3t36il6apgxqcqrceerbe2/lib:/usr/local/pace-apps/spack/packages/linux-rhel9-x86_64_v3/gcc-12.3.0/libpciaccess-0.17-pjfe4ct4gfm5k26s36hmewhbz4k232dl/lib:/usr/local/pace-apps/spack/packages/linux-rhel9-x86_64_v3/gcc-11.3.1/gcc-12.3.0-ukkkutsxfl5kpnnaxflpkq2jtliwthfz/lib64:/usr/local/pace-apps/spack/packages/linux-rhel9-x86_64_v3/gcc-11.3.1/gcc-12.3.0-ukkkutsxfl5kpnnaxflpkq2jtliwthfz/lib:/usr/local/pace-apps/spack/packages/linux-rhel9-x86_64_v3/gcc-12.3.0/zlib-1.2.13-3qhjpij2pji47kfanmlflvwk5ljcn5lh/lib:/usr/local/pace-apps/spack/packages/linux-rhel9-x86_64_v3/gcc-12.3.0/mpc-1.3.1-3zvixith5i243hwiill4exyu3lf2q6ad/lib:/usr/local/pace-apps/spack/packages/linux-rhel9-x86_64_v3/gcc-12.3.0/mpfr-4.2.0-tox4bdsc25zr763rnq5gzlukfbvw7uj7/lib:/usr/local/pace-apps/spack/packages/linux-rhel9-x86_64_v3/gcc-12.3.0/gmp-6.2.1-n7dzsse5e3f6w5z6q6cuqursydg6yypo/lib:::/home/hice1/jwessell6/.mujoco/mujoco210/bin:/home/hice1/jwessell6/.mujoco/mujoco210/bin', 'LMOD_FAMILY_COMPILER': 'gcc', 'XDG_RUNTIME_DIR': '/run/user/1063816', '_ModuleTable004_': 'MSwKc3RhdHVzID0gImFjdGl2ZSIsCnVzZXJOYW1lID0gImxpYnBjaWFjY2Vzcy8wLjE3IiwKd1YgPSAiMDAwMDAwMDAwLjAwMDAwMDAxNy4qemZpbmFsIiwKfSwKbGlieG1sMiA9IHsKZm4gPSAiL3Vzci9sb2NhbC9wYWNlLWFwcHMvc3BhY2svbW9kdWxlcy9sbW9kL2xpbnV4LXJoZWw5LXg4Nl82NC9nY2MvMTIuMy4wL2xpYnhtbDIvMi4xMC4zLmx1YSIsCmZ1bGxOYW1lID0gImxpYnhtbDIvMi4xMC4zIiwKbG9hZE9yZGVyID0gOSwKcHJvcFQgPSB7fSwKcmVmX2NvdW50ID0gMSwKc3RhY2tEZXB0aCA9IDEsCnN0YXR1cyA9ICJhY3RpdmUiLAp1c2VyTmFtZSA9ICJsaWJ4bWwyLzIuMTAuMyIsCndWID0gIjAwMDAwMDAwMi4wMDAwMDAwMTAuMDAwMDAwMDAzLip6ZmluYWwiLAp9', 'LMOD_FAMILY_MPI_VERSION': '2.3.7-1', 'LMOD_MODULERCFILE': '/usr/local/pace-apps/lmod/etc/rc.lua', 'SSH_CLIENT': '10.2.66.247 52676 22', 'CONDA_DEFAULT_ENV': 'DRL', 'MPFR_ROOT': '/usr/local/pace-apps/spack/packages/linux-rhel9-x86_64_v3/gcc-12.3.0/mpfr-4.2.0-tox4bdsc25zr763rnq5gzlukfbvw7uj7', 'LMOD_FAMILY_MPI': 'mvapich2', 'FC': '/usr/local/pace-apps/spack/packages/linux-rhel9-x86_64_v3/gcc-11.3.1/gcc-12.3.0-ukkkutsxfl5kpnnaxflpkq2jtliwthfz/bin/gfortran', 'LMOD_SYSHOST': 'ice', 'which_declare': 'declare -f', 'LMOD_FAMILY_COMPILER_VERSION': '12.3.0', 'SLURM_MPI_TYPE': 'pmix_v4', 'XDG_DATA_DIRS': '/home/hice1/jwessell6/.local/share/flatpak/exports/share:/var/lib/flatpak/exports/share:/usr/local/share:/usr/share', '__Init_Default_Modules': '1', 'PATH': '/storage/ice1/1/6/jwessell6/miniconda3/envs/DRL/bin:/home/hice1/jwessell6/.vscode-server/bin/1a5daa3a0231a0fbba4f14db7ec463cf99d7768e/bin/remote-cli:/opt/pace-common/bin:/opt/slurm/current/bin:/storage/ice1/1/6/jwessell6/miniconda3/envs/DRL/bin:/storage/ice1/1/6/jwessell6/miniconda3/condabin:/usr/local/pace-apps/spack/packages/linux-rhel9-x86_64_v3/gcc-12.3.0/mvapich2-2.3.7-1-qv3gjagtbx5e3rlbdy6iy2sfczryftyt/bin:/opt/slurm/current/bin:/opt/pmix/4.2.6/bin:/usr/local/pace-apps/spack/packages/linux-rhel9-x86_64_v3/gcc-12.3.0/libxml2-2.10.3-ve5kggawwlt6jijzmrfy7idkx5hcwmuw/bin:/usr/local/pace-apps/spack/packages/linux-rhel9-x86_64_v3/gcc-12.3.0/xz-5.4.1-23t2osmoz6du7oygrv5zeiignuxhmmp4/bin:/usr/local/pace-apps/spack/packages/linux-rhel9-x86_64_v3/gcc-12.3.0/libiconv-1.17-fsjufoyqbs3t36il6apgxqcqrceerbe2/bin:/usr/local/pace-apps/spack/packages/linux-rhel9-x86_64_v3/gcc-11.3.1/gcc-12.3.0-ukkkutsxfl5kpnnaxflpkq2jtliwthfz/bin:/opt/pace-common/bin:/usr/local/bin:/usr/bin:/usr/local/sbin:/usr/sbin:/opt/iozone/bin:/opt/iozone/bin:/home/hice1/jwessell6/bin', 'SELINUX_LEVEL_REQUESTED': '', 'LIBICONVROOT': '/usr/local/pace-apps/spack/packages/linux-rhel9-x86_64_v3/gcc-12.3.0/libiconv-1.17-fsjufoyqbs3t36il6apgxqcqrceerbe2', 'MODULEPATH': '/usr/local/pace-apps/manual/modules/lmod/linux-rhel9-x86_64/mvapich2/2.3.7-1/gcc/12.3.0:/usr/local/pace-apps/spack/modules/lmod/linux-rhel9-x86_64/mvapich2/2.3.7-1-tcqqxwz/gcc/12.3.0:/usr/local/pace-apps/spack/modules/lmod/linux-rhel9-x86_64/mvapich2/2.3.7-1-qv3gjag/gcc/12.3.0:/usr/local/pace-apps/manual/modules/lmod/linux-rhel9-x86_64/gcc/12.3.0:/usr/local/pace-apps/spack/modules/lmod/linux-rhel9-x86_64/gcc/12.3.0:/usr/local/pace-apps/manual/modules/lmod/linux-rhel9-x86_64/Core:/usr/local/pace-apps/spack/modules/lmod/linux-rhel9-x86_64/Core', 'CC': '/usr/local/pace-apps/spack/packages/linux-rhel9-x86_64_v3/gcc-11.3.1/gcc-12.3.0-ukkkutsxfl5kpnnaxflpkq2jtliwthfz/bin/gcc', '_LMFILES_': '/usr/local/pace-apps/spack/modules/lmod/linux-rhel9-x86_64/gcc/12.3.0/gmp/6.2.1.lua:/usr/local/pace-apps/spack/modules/lmod/linux-rhel9-x86_64/gcc/12.3.0/mpfr/4.2.0.lua:/usr/local/pace-apps/spack/modules/lmod/linux-rhel9-x86_64/gcc/12.3.0/mpc/1.3.1.lua:/usr/local/pace-apps/spack/modules/lmod/linux-rhel9-x86_64/gcc/12.3.0/zlib/1.2.13.lua:/usr/local/pace-apps/spack/modules/lmod/linux-rhel9-x86_64/Core/gcc/12.3.0.lua:/usr/local/pace-apps/spack/modules/lmod/linux-rhel9-x86_64/gcc/12.3.0/libpciaccess/0.17.lua:/usr/local/pace-apps/spack/modules/lmod/linux-rhel9-x86_64/gcc/12.3.0/libiconv/1.17.lua:/usr/local/pace-apps/spack/modules/lmod/linux-rhel9-x86_64/gcc/12.3.0/xz/5.4.1.lua:/usr/local/pace-apps/spack/modules/lmod/linux-rhel9-x86_64/gcc/12.3.0/libxml2/2.10.3.lua:/usr/local/pace-apps/spack/modules/lmod/linux-rhel9-x86_64/gcc/12.3.0/pmix/4.2.6.lua:/usr/local/pace-apps/spack/modules/lmod/linux-rhel9-x86_64/gcc/12.3.0/slurm/23.11.1.lua:/usr/local/pace-apps/spack/modules/lmod/linux-rhel9-x86_64/gcc/12.3.0/mvapich2/2.3.7-1.lua', 'LIBXML2ROOT': '/usr/local/pace-apps/spack/packages/linux-rhel9-x86_64_v3/gcc-12.3.0/libxml2-2.10.3-ve5kggawwlt6jijzmrfy7idkx5hcwmuw', 'LMOD_CMD': '/usr/local/pace-apps/lmod/lmod/libexec/lmod', 'LMOD_MPI_VERSION': '2.3.7-1-qv3gjag', '__LMOD_REF_COUNT_LD_LIBRARY_PATH': '/usr/local/pace-apps/spack/packages/linux-rhel9-x86_64_v3/gcc-12.3.0/mvapich2-2.3.7-1-qv3gjagtbx5e3rlbdy6iy2sfczryftyt/lib:1;/opt/slurm/current/lib:2;/opt/pmix/4.2.6/lib:1;/usr/local/pace-apps/spack/packages/linux-rhel9-x86_64_v3/gcc-12.3.0/libxml2-2.10.3-ve5kggawwlt6jijzmrfy7idkx5hcwmuw/lib:1;/usr/local/pace-apps/spack/packages/linux-rhel9-x86_64_v3/gcc-12.3.0/xz-5.4.1-23t2osmoz6du7oygrv5zeiignuxhmmp4/lib:1;/usr/local/pace-apps/spack/packages/linux-rhel9-x86_64_v3/gcc-12.3.0/libiconv-1.17-fsjufoyqbs3t36il6apgxqcqrceerbe2/lib:1;/usr/local/pace-apps/spack/packages/linux-rhel9-x86_64_v3/gcc-12.3.0/libpciaccess-0.17-pjfe4ct4gfm5k26s36hmewhbz4k232dl/lib:1;/usr/local/pace-apps/spack/packages/linux-rhel9-x86_64_v3/gcc-11.3.1/gcc-12.3.0-ukkkutsxfl5kpnnaxflpkq2jtliwthfz/lib64:1;/usr/local/pace-apps/spack/packages/linux-rhel9-x86_64_v3/gcc-11.3.1/gcc-12.3.0-ukkkutsxfl5kpnnaxflpkq2jtliwthfz/lib:1;/usr/local/pace-apps/spack/packages/linux-rhel9-x86_64_v3/gcc-12.3.0/zlib-1.2.13-3qhjpij2pji47kfanmlflvwk5ljcn5lh/lib:1;/usr/local/pace-apps/spack/packages/linux-rhel9-x86_64_v3/gcc-12.3.0/mpc-1.3.1-3zvixith5i243hwiill4exyu3lf2q6ad/lib:1;/usr/local/pace-apps/spack/packages/linux-rhel9-x86_64_v3/gcc-12.3.0/mpfr-4.2.0-tox4bdsc25zr763rnq5gzlukfbvw7uj7/lib:1;/usr/local/pace-apps/spack/packages/linux-rhel9-x86_64_v3/gcc-12.3.0/gmp-6.2.1-n7dzsse5e3f6w5z6q6cuqursydg6yypo/lib:1;:1', 'MPCROOT': '/usr/local/pace-apps/spack/packages/linux-rhel9-x86_64_v3/gcc-12.3.0/mpc-1.3.1-3zvixith5i243hwiill4exyu3lf2q6ad', 'LMOD_SYSTEM_DEFAULT_MODULES': 'gcc/12.3.0:mvapich2', 'GMPROOT': '/usr/local/pace-apps/spack/packages/linux-rhel9-x86_64_v3/gcc-12.3.0/gmp-6.2.1-n7dzsse5e3f6w5z6q6cuqursydg6yypo', 'CPATH': '/usr/local/pace-apps/spack/packages/linux-rhel9-x86_64_v3/gcc-12.3.0/mvapich2-2.3.7-1-qv3gjagtbx5e3rlbdy6iy2sfczryftyt/include:/opt/slurm/current/include:/opt/pmix/4.2.6/include:/usr/local/pace-apps/spack/packages/linux-rhel9-x86_64_v3/gcc-12.3.0/libxml2-2.10.3-ve5kggawwlt6jijzmrfy7idkx5hcwmuw/include:/usr/local/pace-apps/spack/packages/linux-rhel9-x86_64_v3/gcc-12.3.0/xz-5.4.1-23t2osmoz6du7oygrv5zeiignuxhmmp4/include:/usr/local/pace-apps/spack/packages/linux-rhel9-x86_64_v3/gcc-12.3.0/libiconv-1.17-fsjufoyqbs3t36il6apgxqcqrceerbe2/include:/usr/local/pace-apps/spack/packages/linux-rhel9-x86_64_v3/gcc-12.3.0/libpciaccess-0.17-pjfe4ct4gfm5k26s36hmewhbz4k232dl/include:/usr/local/pace-apps/spack/packages/linux-rhel9-x86_64_v3/gcc-11.3.1/gcc-12.3.0-ukkkutsxfl5kpnnaxflpkq2jtliwthfz/include:/usr/local/pace-apps/spack/packages/linux-rhel9-x86_64_v3/gcc-12.3.0/zlib-1.2.13-3qhjpij2pji47kfanmlflvwk5ljcn5lh/include:/usr/local/pace-apps/spack/packages/linux-rhel9-x86_64_v3/gcc-12.3.0/mpc-1.3.1-3zvixith5i243hwiill4exyu3lf2q6ad/include:/usr/local/pace-apps/spack/packages/linux-rhel9-x86_64_v3/gcc-12.3.0/mpfr-4.2.0-tox4bdsc25zr763rnq5gzlukfbvw7uj7/include:/usr/local/pace-apps/spack/packages/linux-rhel9-x86_64_v3/gcc-12.3.0/gmp-6.2.1-n7dzsse5e3f6w5z6q6cuqursydg6yypo/include', 'LMOD_MPI_NAME': 'mvapich2', 'GCC_ROOT': '/usr/local/pace-apps/spack/packages/linux-rhel9-x86_64_v3/gcc-11.3.1/gcc-12.3.0-ukkkutsxfl5kpnnaxflpkq2jtliwthfz', 'LMOD_AVAIL_STYLE': 'en_grouped', 'BASH_FUNC_ml%%': '() {  eval \"$($LMOD_DIR/ml_cmd \"$@\")\"\\n}', 'BASH_FUNC_which%%': '() {  ( alias;\\n eval ${which_declare} ) | /usr/bin/which --tty-only --read-alias --read-functions --show-tilde --show-dot $@\\n}', 'BASH_FUNC_module%%': '() {  if [ -z \"${LMOD_SH_DBG_ON+x}\" ]; then\\n case \"$-\" in \\n *v*x*)\\n __lmod_sh_dbg=\\'vx\\'\\n ;;\\n *v*)\\n __lmod_sh_dbg=\\'v\\'\\n ;;\\n *x*)\\n __lmod_sh_dbg=\\'x\\'\\n ;;\\n esac;\\n fi;\\n if [ -n \"${__lmod_sh_dbg:-}\" ]; then\\n set +$__lmod_sh_dbg;\\n echo \"Shell debugging temporarily silenced: export LMOD_SH_DBG_ON=1 for Lmod\\'s output\" 1>&2;\\n fi;\\n eval \"$($LMOD_CMD shell \"$@\")\" && eval \"$(${LMOD_SETTARG_CMD:-:} -s sh)\";\\n __lmod_my_status=$?;\\n if [ -n \"${__lmod_sh_dbg:-}\" ]; then\\n echo \"Shell debugging restarted\" 1>&2;\\n set -$__lmod_sh_dbg;\\n fi;\\n unset __lmod_sh_dbg;\\n return $__lmod_my_status\\n}', '_': '/storage/ice1/1/6/jwessell6/miniconda3/envs/DRL/bin/python', 'VSCODE_HANDLES_SIGPIPE': 'true', 'HISTCONTROL': 'ignoredups', 'HISTSIZE': '1000', 'HOSTNAME': 'login-ice-2.pace.gatech.edu', 'MAIL': '/var/spool/mail/jwessell6', 'VSCODE_AMD_ENTRYPOINT': 'vs/workbench/api/node/extensionHostProcess', 'VSCODE_HANDLES_UNCAUGHT_ERRORS': 'true', 'VSCODE_NLS_CONFIG': '{\"locale\":\"en\",\"osLocale\":\"en\",\"availableLanguages\":{}}', 'BROWSER': '/home/hice1/jwessell6/.vscode-server/bin/1a5daa3a0231a0fbba4f14db7ec463cf99d7768e/bin/helpers/browser.sh', 'VSCODE_CWD': '/home/hice1/jwessell6', 'ELECTRON_RUN_AS_NODE': '1', 'VSCODE_IPC_HOOK_CLI': '/run/user/1063816/vscode-ipc-51acdd9f-6819-4a73-89c8-2b78c6428e3a.sock', 'APPLICATION_INSIGHTS_NO_DIAGNOSTIC_CHANNEL': '1', 'PYTHONUNBUFFERED': '1', 'CONDA_ROOT': '/storage/ice1/1/6/jwessell6/miniconda3', 'PYTHONIOENCODING': 'utf-8', 'CONDA_PREFIX_1': '/storage/ice1/1/6/jwessell6/miniconda3', 'PYDEVD_IPYTHON_COMPATIBLE_DEBUGGING': '1', 'PYDEVD_USE_FRAME_EVAL': 'NO', 'TERM': 'xterm-color', 'CLICOLOR': '1', 'FORCE_COLOR': '1', 'CLICOLOR_FORCE': '1', 'PAGER': 'cat', 'GIT_PAGER': 'cat', 'MPLBACKEND': 'module://matplotlib_inline.backend_inline', 'QT_QPA_PLATFORM_PLUGIN_PATH': '/home/hice1/jwessell6/.local/lib/python3.10/site-packages/cv2/qt/plugins', 'QT_QPA_FONTDIR': '/home/hice1/jwessell6/.local/lib/python3.10/site-packages/cv2/qt/fonts', 'SDL_AUDIODRIVER': 'dsp', 'PYGAME_HIDE_SUPPORT_PROMPT': 'hide'})\n"
     ]
    }
   ],
   "source": [
    "'''quantization_config = BitsAndBytesConfig(\n",
    "    load_in_4bit=True,\n",
    "    bnb_4bit_quant_type=\"nf4\",\n",
    "    bnb_4bit_compute_dtype=torch.float16,\n",
    ")\n",
    "model = LlavaOnevisionForConditionalGeneration.from_pretrained(\"llava-hf/llava-onevision-qwen2-72b-ov-hf\", quantization_config = quantization_config, device_map=\"auto\")\n",
    "model.eval()\n",
    "    #print(model.device)\n",
    "processor = AutoProcessor.from_pretrained(\"llava-hf/llava-onevision-qwen2-7b-ov-hf\")'''\n",
    "import anthropic\n",
    "import os\n",
    "print(os.environ)\n",
    "client = anthropic.Anthropic()"
   ]
  },
  {
   "cell_type": "code",
   "execution_count": null,
   "id": "5a5a53d2-eefb-4baa-91db-de580768c56b",
   "metadata": {
    "tags": []
   },
   "outputs": [],
   "source": []
  },
  {
   "cell_type": "code",
   "execution_count": 113,
   "id": "9918b5c4-bb7a-4378-8e38-707855c56302",
   "metadata": {
    "tags": []
   },
   "outputs": [
    {
     "data": {
      "image/png": "[encoded data removed]",
      "text/plain": [
       "<Figure size 640x480 with 1 Axes>"
      ]
     },
     "metadata": {},
     "output_type": "display_data"
    }
   ],
   "source": [
    "grid_size = [10,10]\n",
    "env = gym.make('snake-v0', grid_size =grid_size, unit_size = 35)\n",
    "\n",
    "state = env.reset()\n",
    "image = state\n",
    "plt.imshow(image)\n",
    "im = Image.fromarray(image)\n",
    "#im.save(\"FewShotEgs/snake350-2.png\")"
   ]
  },
  {
   "cell_type": "code",
   "execution_count": 18,
   "id": "d112d62d-8e13-47f6-9e6a-95e21f36b532",
   "metadata": {
    "tags": []
   },
   "outputs": [],
   "source": [
    "eg_img = Image.open(\"FewShotEgs/snake350.png\")\n",
    "#Gather information for the one-shot prompt\n",
    "'''\n",
    "plt.imshow(Image.fromarray(state))\n",
    "for i in range(grid_size[0]):\n",
    "    for j in range(grid_size[1]):\n",
    "        if env.controller.grid.food_space((i,j)):\n",
    "            food = [i, j]\n",
    "            break\n",
    "print(env.controller.snakes[0].head)\n",
    "print(env.controller.snakes[0].direction)\n",
    "print(food)'''\n",
    "eg_info = ([10,10], [5,4], \"down\", [0,1])\n",
    "eg_ans = \"\"\"The snake is currently below and to the right and below the food. The snake shoulf move in the direction of the food, but it cannot move up. \n",
    "If the snake moved left, it would not go out of bounds or hit its tail, as in the image it is only about the snake. So, you should take the action 'left'.\"\"\"\n",
    "\n",
    "eg_img2 = Image.open(\"FewShotEgs/snake350-2.png\")\n",
    "eg_info2 = ([10,10], [2, 3], \"left\", [6, 9])\n",
    "eg_ans2= \"\"\"The snake is currently above and to the left of the food. The snake should move in the direction of the food. It cannot move to the right\n",
    "as it is currently moving to the left. If the snake moves down, it will not hit its tail as shown in the image. So, you should take the action 'down'.\"\"\""
   ]
  },
  {
   "cell_type": "code",
   "execution_count": 114,
   "id": "959a58a3-b990-4d54-afdc-762997b8d109",
   "metadata": {
    "tags": []
   },
   "outputs": [
    {
     "name": "stdout",
     "output_type": "stream",
     "text": [
      "The autoreload extension is already loaded. To reload it, use:\n",
      "  %reload_ext autoreload\n"
     ]
    },
    {
     "ename": "AttributeError",
     "evalue": "'NoneType' object has no attribute 'head'",
     "output_type": "error",
     "traceback": [
      "\u001b[0;31m---------------------------------------------------------------------------\u001b[0m",
      "\u001b[0;31mAttributeError\u001b[0m                            Traceback (most recent call last)",
      "\u001b[1;32m/home/hice1/jwessell6/DRL/VLMAgent/testing.ipynb Cell 6\u001b[0m line \u001b[0;36m3\n\u001b[1;32m     <a href='vscode-notebook-cell://ssh-remote%2B7b22686f73744e616d65223a2250414345494345227d/home/hice1/jwessell6/DRL/VLMAgent/testing.ipynb#W5sdnNjb2RlLXJlbW90ZQ%3D%3D?line=27'>28</a>\u001b[0m             food \u001b[39m=\u001b[39m [i, j]\n\u001b[1;32m     <a href='vscode-notebook-cell://ssh-remote%2B7b22686f73744e616d65223a2250414345494345227d/home/hice1/jwessell6/DRL/VLMAgent/testing.ipynb#W5sdnNjb2RlLXJlbW90ZQ%3D%3D?line=28'>29</a>\u001b[0m             \u001b[39mbreak\u001b[39;00m\n\u001b[0;32m---> <a href='vscode-notebook-cell://ssh-remote%2B7b22686f73744e616d65223a2250414345494345227d/home/hice1/jwessell6/DRL/VLMAgent/testing.ipynb#W5sdnNjb2RlLXJlbW90ZQ%3D%3D?line=30'>31</a>\u001b[0m curr_info \u001b[39m=\u001b[39m (grid_size, env\u001b[39m.\u001b[39;49mcontroller\u001b[39m.\u001b[39;49msnakes[\u001b[39m0\u001b[39;49m]\u001b[39m.\u001b[39;49mhead, utils\u001b[39m.\u001b[39mencode_snake(env\u001b[39m.\u001b[39mcontroller\u001b[39m.\u001b[39msnakes[\u001b[39m0\u001b[39m]\u001b[39m.\u001b[39mdirection), food)\n\u001b[1;32m     <a href='vscode-notebook-cell://ssh-remote%2B7b22686f73744e616d65223a2250414345494345227d/home/hice1/jwessell6/DRL/VLMAgent/testing.ipynb#W5sdnNjb2RlLXJlbW90ZQ%3D%3D?line=31'>32</a>\u001b[0m info \u001b[39m=\u001b[39m (eg_info, eg_info2, curr_info)\n\u001b[1;32m     <a href='vscode-notebook-cell://ssh-remote%2B7b22686f73744e616d65223a2250414345494345227d/home/hice1/jwessell6/DRL/VLMAgent/testing.ipynb#W5sdnNjb2RlLXJlbW90ZQ%3D%3D?line=33'>34</a>\u001b[0m \u001b[39m#chat = utils.make_conversation(2, \"snake-v0\", [eg_ans, eg_ans2], info, media, images) #eg_txt)\u001b[39;00m\n",
      "\u001b[0;31mAttributeError\u001b[0m: 'NoneType' object has no attribute 'head'"
     ]
    }
   ],
   "source": [
    "import utils\n",
    "import base64\n",
    "import codecs\n",
    "import pickle\n",
    "import os\n",
    "%load_ext autoreload\n",
    "%autoreload 2\n",
    "\n",
    "\n",
    "#image = statesave \n",
    "idx = 0\n",
    "done = False \n",
    "while not done:\n",
    "    if idx > 100:\n",
    "        break\n",
    "    im = Image.fromarray(state)\n",
    "    im.save(f\"agent_outputs/snake-claude1/{idx}.png\")\n",
    "    im.save(\"temp.png\")\n",
    "    with open(\"temp.png\", \"rb\") as image_file:\n",
    "        enc = base64.b64encode(image_file.read()).decode('utf-8')\n",
    "\n",
    "    #enc = codecs.encode(pickle.dumps(image, protocol=pickle.HIGHEST_PROTOCOL), \"base64\").decode('utf-8')\n",
    "    #images = [base64.standard_b64encode(eg_img).decode(\"utf-8\"), base64.standard_b64encode(eg_img2).decode(\"utf-8\"), base64.standard_b64encode(image).decode(\"utf-8\")]\n",
    "    #media = [\"image/png\", \"image/png\", \"image/png\"]\n",
    "    for i in range(grid_size[0]):\n",
    "        for j in range(grid_size[1]):\n",
    "            if env.controller.grid.food_space((i,j)):\n",
    "                food = [i, j]\n",
    "                break\n",
    "\n",
    "    curr_info = (grid_size, env.controller.snakes[0].head, utils.encode_snake(env.controller.snakes[0].direction), food)\n",
    "    info = (eg_info, eg_info2, curr_info)\n",
    "\n",
    "    #chat = utils.make_conversation(2, \"snake-v0\", [eg_ans, eg_ans2], info, media, images) #eg_txt)\n",
    "    chat = utils.make_conversation(0, \"snake-v0\", [], [curr_info], [\"image/png\"], [enc]) #eg_txt)\n",
    "\n",
    "    message = client.messages.create(\n",
    "        model=\"claude-3-5-sonnet-20241022\",\n",
    "        max_tokens=1000,\n",
    "        temperature=0,\n",
    "        system=chat[0]['content'][0]['text'],\n",
    "        messages=[\n",
    "            chat[1]\n",
    "        ]\n",
    "    )\n",
    "    pattern = r\"'[^']{2,5}'\"\n",
    "    string = message.content[0].text\n",
    "    matches = re.findall(pattern, string)\n",
    "    action = utils.decode('snake-v0', matches[0][1:-1])\n",
    "    state, reward, done, trunc = env.step(action)\n",
    "    idx += 1\n",
    "'''prompt = processor.apply_chat_template(chat, add_generation_prompt=True)\n",
    "inputs = processor(images=images, text=prompt, return_tensors=\"pt\").to(\"cuda:0\", torch.float16)\n",
    "output = model.generate(**inputs, max_new_tokens=500)\n",
    "instruction = processor.decode(output[0][len(inputs['input_ids'][0]):], skip_special_tokens=True)\n",
    "print(instruction)\n",
    "action = utils.decode(\"snake-v0\", instruction[len(inputs) : ].lower())\n",
    "print(action)\n",
    "#'''"
   ]
  },
  {
   "cell_type": "code",
   "execution_count": 112,
   "id": "26e50b87-0b99-4236-9774-ad5de76df6ab",
   "metadata": {
    "tags": []
   },
   "outputs": [
    {
     "name": "stdout",
     "output_type": "stream",
     "text": [
      "Let me help you plan the best path to the food.\n",
      "\n",
      "Current position: (8, 4)\n",
      "Food position: (3, 7)\n",
      "Current direction: up\n",
      "\n",
      "To reach the food, you need to:\n",
      "1. Continue moving up to get closer vertically\n",
      "2. Then move right to align with the food\n",
      "\n",
      "Since you're already moving up and there's clear space above you, you should continue in that direction. This will help you get closer to the food's vertical position while avoiding your tail.\n",
      "\n",
      "Therefore, my recommendation is to:\n",
      "\n",
      "'up'\n",
      "\n",
      "This is the safest and most direct path toward the food. After moving up a few spaces, you'll need to turn right to reach the food, but for this immediate move, continuing upward is optimal.\n",
      "up\n"
     ]
    }
   ],
   "source": [
    "import re\n",
    "pattern = r\"'[^']{2,5}'\"\n",
    "string = message.content[0].text\n",
    "print(string)\n",
    "matches = re.findall(pattern, string)\n",
    "print(matches[0][1:-1])\n",
    "action = utils.decode('snake-v0', matches[0][1:-1])\n",
    "state, reward, done, trunc = env.step(1)"
   ]
  },
  {
   "cell_type": "code",
   "execution_count": 111,
   "id": "56181d1c-5614-422a-99d6-cf165b89606e",
   "metadata": {
    "tags": []
   },
   "outputs": [
    {
     "name": "stdout",
     "output_type": "stream",
     "text": [
      "[{'role': 'system', 'content': [{'type': 'text', 'text': 'You are a helpful AI assistant that is an expert in playing games. The user you are working with needs help playing the popular computer game snake.\\n                    In snake, the goal is to eat as much food as possible. Each time the snake eats a piece of food, its length increases. Help the human make the best \\n                    move to eat more food without the snake going out of bounds or running into its own tail.'}]}, {'role': 'user', 'content': [{'type': 'image', 'source': {'type': 'base64', 'media_type': 'image/png', 'data': 'iVBORw0KGgoAAAANSUhEUgAAAV4AAAFeCAIAAABCSeBNAAAEj0lEQVR4nO3XwaoUMRBA0S6Znf//qa7jQhCRC8rTTnp453xAqhjoO8lc6wL4zZfTCwBPJA1AkAYgSAMQpAEI0gAEaQCCNABBGoAgDUCQBiBIAxCkAQjSAARpAII0AEEagCANQJAGIEgDEKQBCNIABGkAgjQAQRqAIA1AkAYgSAMQpAEI0gAEaQCCNABBGoAgDUCQBiBIAxCkAQjSAARpAII0AEEagCANQJAGIEgDEKQBCNIABGkAgjQAQRqAIA1AkAYgSAMQpAEI0gAEaQCCNABBGoAgDUCQBiBIAxCkAQjSAARpAII0AEEagCANQJAGIEgDEKQBCNIABGkAgjQAQRqAIA1AkAYgSAMQpAEI0gAEaQCCNABBGoAgDUCQBiBIAxCkAQjSAARpAII0AEEagCANQJAGIEgDEKQBCNIABGkAgjQAQRqAIA1AkAYgSAMQpAEI0gAEaQCCNADhdXoBuNOsHVPW7Jiyl1sDEKQBCNIABGkAgjQAQRqAIA1AkAYgSAMQpAEI0gAEaQCCNABBGoAgDUCQBiBIAxCkAQjSAARpAII0AEEagCANQJAGIEgDEKQBCNIABGkAgjQAQRqAIA1AkAYgSAMQ5lqnVwCex60BCNIABGkAgjQAQRqAIA1AkAYgSAMQpAEI0gAEaQCCNABBGoAgDUCQBiBIAxCkAQjSAARpAII0AEEagCANQJAGIEgDEKQBCNIABGkAgjQAQRqAIA1AkAYgSAMQpAEI0gAEaQCCNABBGoAgDUCQBiBIAxCkAQjSAARpAII0AEEagCANQJAGIEgDEKQBCNIABGkAgjQAQRqAIA1AkAYgSAMQpAEI0gAEaQCCNABBGoAgDUCQBiBIAxCkAQjSAARpAII0AEEagCANQHidXoA/m9kxZa0dU3gXbg1AkAYgSAMQpAEI0gAEaQCCNABBGoAgDUCQBiBIAxCkAQjSAARpAII0AEEagCANQJAGIEgDEKQBCNIABGkAgjQAQRqAIA1AkAYgSAMQpAEI0gAEaQCCNABBGoAgDUB4nV6Av7LWvefP3Hs+b0caPm7n5+TTZTMPiqe7+74ASRqAIA1AkAYgSAMQpAEI0gAEaQCCNABBGoAgDUCQBiBIAxCkAQjSAARpAII0AEEagCANQJAGIEgDEKQBCNIABGkAgjQAQRqAIA1AkAYgSAMQpAEI0gAEaQCCNDzdzOkN+JRepxd4b2vde/7M7SMgScM/2fOXvr7umDLfdkzhXXhQAEEagCANQJAGIEgDEKQBCNIABGkAgjQAQRqAIA1AkAYgSAMQpAEI0gAEaQCCNABBGoAgDUCQBiBIAxCkAQjSAARpAII0AEEagCANQJAGIEgDEKQBCNIABGkAgjQAYa51eoW3NXOtm3+9HyO2DYKfpOHjZk5v8F9JA7/yoHg6XyxHSAMQpAEI0gAEaQCCNABBGoAgDUCQBiBIAxCkAQjSAARpAII0AEEagCANQJAGIEgDEKQBCNIABGkAgjQAQRqAIA1AkAYgSAMQpAEI0gAEaQCCNABBGoAgDUCQhqebOb0Bn9Jc6/QKwPN8B8DpIcPEjT3WAAAAAElFTkSuQmCC'}}, {'type': 'text', 'text': \"The image provided depicts the current state of my game of snake. The board is a 10 by 10 grid, with (0, 0) representing the top left corner and (9, 9) being\\n    the bottom right. Increasing the first coordinate corresponds to moving down, while increasing the second coordinate corresponds to moving right. \\n    At the moment, my snake's head is at (8, 4) and it is moving in the direction: up. The food is 3 units to the right and 5 units above the current position of the snake's head.\\n    In what direction should I move my snake in order to eat the food while avoiding both my tail and going out of bounds?\\n    Include your answer in single quotes so that I can easily extract it like so: 'down'.\\n                \"}]}]\n"
     ]
    }
   ],
   "source": [
    "print(chat)"
   ]
  },
  {
   "cell_type": "code",
   "execution_count": 85,
   "id": "ecebee59-f83e-4073-8b92-faa027e1232f",
   "metadata": {
    "tags": []
   },
   "outputs": [
    {
     "name": "stdout",
     "output_type": "stream",
     "text": [
      "[{'role': 'system', 'content': [{'type': 'text', 'text': 'You are a helpful AI assistant that is an expert in playing games. The user you are working with needs help playing the popular computer game snake.\\n                    In snake, the goal is to eat as much food as possible. Each time the snake eats a piece of food, its length increases. Help the human make the best \\n                    move to eat more food without the snake going out of bounds or running into its own tail.'}]}, {'role': 'user', 'content': [{'type': 'image', 'source': {'type': 'base64', 'media_type': 'image/png', 'data': 'iVBORw0KGgoAAAANSUhEUgAAAV4AAAFeCAIAAABCSeBNAAAETUlEQVR4nO3XMW7DMBAAQdJwl/8/1TXTB1tKlMHMPEB3Krgg51gD4I/X0wsA30gagCANQJAGIEgDEKQBCNIABGkAgjQAQRqAIA1AkAYgSAMQpAEI0gAEaQCCNABBGoAgDUCQBiBIAxCkAQjSAARpAII0AEEagCANQJAGIEgDEKQBCNIABGkAgjQAQRqAIA1AkAYgSAMQpAEI0gAEaQCCNABBGoAgDUCQBiBIAxCkAQjSAARpAII0AEEagCANQJAGIEgDEKQBCNIABGkAgjQAQRqAIA1AkAYgSAMQpAEI0gAEaQCCNABBGoAgDUCQBiBIAxCkAQjSAARpAII0AEEagCANQJAGIEgDEKQBCNIABGkAgjQAQRqAIA1AkAYgSAMQpAEI0gAEaQCCNABBGoAgDUCQBiBIAxCkAQjSAARpAII0AEEagCANQJAGIEgDEKQBCNIABGkAgjQAQRqAIA1AkAYgSAMQpAEI0gAEaQCCNABBGoAgDUCQBiBIAxCkAQjSAARpAII0AEEagCANQJAGIEgDEKQBCNIABGkAgjQAQRqAIA1AkAYgSAMQpAEI0gAEaQCCNABBGoAgDUCQBiBIAxCkAQjSAARpAII0AEEagCANQJAGIEgDEKQBCNIABGkAgjQAQRqAIA1AkAYgSAMQpAEI0gAEaQCCNABBGoAgDUCQBiBIAxCkAQjSAARpAII0AEEagCANQJAGIEgDEKQBCNIABGkAgjQAQRqAIA1AkAYgSAMQpAEI0gAEaQCCNABBGoAgDUCQBiBIAxCkAQjSAARpAII0AEEagCANQJAGIEgDEKQBCNIABGkAgjQAQRqAIA1AkAYgSAMQpAEI0gAEaQCCNABBGoAgDUCQBiBIAxCkAQjSAARpAII0AEEagCANQJAGIEgDEKQBCNIABGkAgjQAQRqAIA1AkAYgSAMQpAEI0gAEaQCCNABBGoAgDUCQBiBIAxCkAQjSAARpAII0AEEagCANQJAGIEgDEKQBCNIABGkAgjQAQRqAIA1AkAYgSAMQpAEI0gAEaQCCNABBGoAgDUCQBiBIAxCkAQjSAARpAII0AEEagCANQJAGIEgDEKQBCNIABGkAgjQAQRqAIA1AkAYgSAMQpAEI0gCE97ZJc24btcNaT28Adzrt1uDEwiVOSwNwCWkAgjQAQRqAIA1AkAYgSAMQpAEI0gAEaQCCNABBGoAgDUCQBiBIAxCkAQjSAARpAII0AEEagCANQJAGIEgDEKQBCNIABGkAgjQAQRqAIA1AkAYgSAMQTkvDnE9vAEd47xy21r3fn/P2EfBPzLHrLK2fHVPmZ4y55ZeW+wknO+1BAVxCGoAgDUCQBiBIAxCkAQjSAARpAII0AEEagCANQJAGIEgDEKQBCNIABGkAgjQAQRqAIA1AkAYgSAMQpAEI0gAEaQCCNABBGoAgDUCQBiBIAxCkAQjSAARpAII0AGGO9fQKwPf5BRGBEbnxeP/WAAAAAElFTkSuQmCC'}}, {'type': 'text', 'text': \"The image provided depicts the current state of my game of snake. The board is a 10 by 10 grid, with (0, 0) representing the top left corner and (9, 9) being\\n    the bottom right. Increasing the first coordinate corresponds to moving down, while increasing the second coordinate corresponds to moving right. \\n    At the moment, my snake's head is at (9, 1) and it is moving in the direction: down. The snake is 1 units to the left and 0 units below the current position of the food.\\n      In what direction should I move my snake in order to eat the food while avoiding both my tail and going out of bounds?\\n      Include your answer in single quotes so that I can easily extract it like so: 'down'.\\n                \"}]}]\n"
     ]
    }
   ],
   "source": []
  },
  {
   "cell_type": "code",
   "execution_count": 44,
   "id": "4207a4ab-4511-4cf9-b40a-084c8bfffc7a",
   "metadata": {
    "tags": []
   },
   "outputs": [
    {
     "name": "stdout",
     "output_type": "stream",
     "text": [
      "2, 1\n"
     ]
    }
   ],
   "source": [
    "for i in range(10):\n",
    "    for j in range(10):\n",
    "        if env.controller.grid.food_space((i,j)):\n",
    "            print(f\"{i}, {j}\")"
   ]
  },
  {
   "cell_type": "code",
   "execution_count": 57,
   "id": "269c49b7-df8a-48e3-b241-62790cf3f5b6",
   "metadata": {},
   "outputs": [],
   "source": [
    "im = Image.fromarray(state)\n",
    "im.save(\"FewShotEgs/snake350-2.png\")"
   ]
  },
  {
   "cell_type": "code",
   "execution_count": 20,
   "id": "c0f9e834-6c96-433f-80d4-a0a79a37a6d0",
   "metadata": {},
   "outputs": [],
   "source": [
    "import pickle\n",
    "\n",
    "with open(\"agent_outputs/LunarLander-v2/results.pkl\", \"rb\") as file:\n",
    "    res = pickle.load(file)"
   ]
  },
  {
   "cell_type": "code",
   "execution_count": 21,
   "metadata": {},
   "outputs": [
    {
     "name": "stdout",
     "output_type": "stream",
     "text": [
      "Let's analyze the situation:\n",
      "\n",
      "1. Position: You're slightly left of center (-0.393), which is good as you're close to the landing zone\n",
      "2. Horizontal speed: Moving left at 0.55, which needs to be slowed down\n",
      "3. Vertical speed: Falling at 0.25, which is manageable but should be monitored\n",
      "4. Rotation: Small counterclockwise rotation (0.04) with a nearly horizontal angle (0.01)\n",
      "\n",
      "Given these conditions:\n",
      "- The leftward drift needs to be countered\n",
      "- The descent speed is acceptable but shouldn't increase much more\n",
      "- The counterclockwise rotation should be stopped\n",
      "\n",
      "Since your ship is almost horizontal (angle 0.01) and moving left, firing the main thruster would help slow your leftward movement while also providing some lift to manage the descent speed. The slight counterclockwise rotation isn't severe enough to prioritize correcting it over managing your horizontal velocity.\n",
      "\n",
      "'fire main'\n",
      "\n",
      "This should help stabilize your horizontal movement while maintaining a controlled descent. After this, we may need to use the right thruster to correct any remaining counterclockwise rotation.\n",
      "The image provided depicts the current position of my lunar lander relative to the goal, which is the area between the two flags. The flags are \n",
      "     at coordinate 0 (between -1.5 and 1.5) and my ship is at the horizontal position -0.3929652273654938.\n",
      "     Currently, my lander is drifting left at a speed of 0.55, falling quickly at a speed of 0.25, and is rotating counterclockwise at a rotational speed of 0.04 with a current angle of 0.01 relative to the horizontal.\n",
      "       I need to make sure that the ship is not descending too fast while remaining relatively stable both horizontally and angularly. Try to avoid ascending if possible as this moves us further from out goal.\n",
      "        Given the information I provided as well as what you can determine from the image, what should I do now to ensure a safe landing between the two flags?\n",
      "        I can either fire my left booster, fire my right booster, fire my main booster, or do nothing. I can only fire one booster at a time, and how it effects the ship's\n",
      "        trajectory is determined by the ship's orientation as it descends. To combat clockwise rotation fire the right booster, while to combat counterclockwise rotation fire the left booster.\n",
      "        Please include your answer in single quotes so I can extract it easily like so: 'fire main'.\n"
     ]
    }
   ],
   "source": [
    "eg = res[67]\n",
    "print(eg[1])\n",
    "print(eg[0]['content'][1]['text'])"
   ]
  },
  {
   "cell_type": "code",
   "execution_count": 16,
   "metadata": {},
   "outputs": [],
   "source": [
    "import matplotlib.pyplot as plt\n",
    "from matplotlib import animation\n",
    "import os \n",
    "\n",
    "def save_frames_as_gif(frames) -> str:\n",
    "    path = 'agent_outputs/snake-claude1/res.gif'\n",
    "    \n",
    "    # controls frame size\n",
    "    fig = plt.figure(\n",
    "        figsize=(frames[0].shape[1] / 72.0, frames[0].shape[0] / 72.0),\n",
    "        dpi=72\n",
    "    )\n",
    "\n",
    "    patch = plt.imshow(frames[0])\n",
    "    plt.axis('off')\n",
    "\n",
    "    def animate(i):\n",
    "        patch.set_data(frames[i])\n",
    "\n",
    "    anim = animation.FuncAnimation(\n",
    "        plt.gcf(), animate, frames = len(frames), interval=50\n",
    "    )\n",
    "    anim.save(\n",
    "        path,\n",
    "        writer='imagemagick', fps=60\n",
    "    )\n",
    "    plt.close(fig)\n",
    "    return path"
   ]
  },
  {
   "cell_type": "code",
   "execution_count": 17,
   "metadata": {},
   "outputs": [],
   "source": [
    "from PIL import Image\n",
    "import numpy as np \n",
    "\n",
    "path = \"agent_outputs/snake-claude1\"\n",
    "images = os.listdir(path)\n",
    "frames = []\n",
    "for image in images:\n",
    "    if \".png\" not in image: \n",
    "        continue\n",
    "    string = path + \"/\" + image\n",
    "    pic = Image.open(string)\n",
    "    frames.append(np.asarray(pic))"
   ]
  },
  {
   "cell_type": "code",
   "execution_count": 18,
   "metadata": {},
   "outputs": [
    {
     "name": "stdout",
     "output_type": "stream",
     "text": [
      "[[[  0 255   0]\n",
      "  [  0 255   0]\n",
      "  [  0 255   0]\n",
      "  ...\n",
      "  [  0 255   0]\n",
      "  [  0 255   0]\n",
      "  [  0 255   0]]\n",
      "\n",
      " [[  0 255   0]\n",
      "  [  0 255   0]\n",
      "  [  0 255   0]\n",
      "  ...\n",
      "  [  0 255   0]\n",
      "  [  0 255   0]\n",
      "  [  0 255   0]]\n",
      "\n",
      " [[  0 255   0]\n",
      "  [  0 255   0]\n",
      "  [  0 255   0]\n",
      "  ...\n",
      "  [  0 255   0]\n",
      "  [  0 255   0]\n",
      "  [  0 255   0]]\n",
      "\n",
      " ...\n",
      "\n",
      " [[  0 255   0]\n",
      "  [  0 255   0]\n",
      "  [  0 255   0]\n",
      "  ...\n",
      "  [  0 255   0]\n",
      "  [  0 255   0]\n",
      "  [  0 255   0]]\n",
      "\n",
      " [[  0 255   0]\n",
      "  [  0 255   0]\n",
      "  [  0 255   0]\n",
      "  ...\n",
      "  [  0 255   0]\n",
      "  [  0 255   0]\n",
      "  [  0 255   0]]\n",
      "\n",
      " [[  0 255   0]\n",
      "  [  0 255   0]\n",
      "  [  0 255   0]\n",
      "  ...\n",
      "  [  0 255   0]\n",
      "  [  0 255   0]\n",
      "  [  0 255   0]]]\n"
     ]
    },
    {
     "name": "stderr",
     "output_type": "stream",
     "text": [
      "MovieWriter imagemagick unavailable; using Pillow instead.\n"
     ]
    },
    {
     "data": {
      "text/plain": [
       "'agent_outputs/snake-claude1/res.gif'"
      ]
     },
     "execution_count": 18,
     "metadata": {},
     "output_type": "execute_result"
    }
   ],
   "source": [
    "save_frames_as_gif(frames)"
   ]
  },
  {
   "cell_type": "code",
   "execution_count": null,
   "metadata": {},
   "outputs": [],
   "source": []
  }
 ],
 "metadata": {
  "kernelspec": {
   "display_name": "Python 3 (ipykernel)",
   "language": "python",
   "name": "python3"
  },
  "language_info": {
   "codemirror_mode": {
    "name": "ipython",
    "version": 3
   },
   "file_extension": ".py",
   "mimetype": "text/x-python",
   "name": "python",
   "nbconvert_exporter": "python",
   "pygments_lexer": "ipython3",
   "version": "3.10.15"
  }
 },
 "nbformat": 4,
 "nbformat_minor": 5
}
